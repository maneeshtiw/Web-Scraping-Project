{
 "cells": [
  {
   "cell_type": "markdown",
   "id": "d9cf518d",
   "metadata": {},
   "source": [
    "### 1. Scrape weather condition data from website (Link:\n",
    "\n",
    "`https://www.accuweather.com/en/in/india-weather`\n",
    "\n",
    "### 2. Create database and save data into it (Use MySQL)\n",
    "### 3. Make a weather dashboard using Power BI."
   ]
  },
  {
   "cell_type": "code",
   "execution_count": 1,
   "id": "be6ad3bb",
   "metadata": {},
   "outputs": [],
   "source": [
    "# !pip install beautifulsoup4 fake_headers webdriver-manager lxml"
   ]
  },
  {
   "cell_type": "code",
   "execution_count": 2,
   "id": "b072eb00",
   "metadata": {},
   "outputs": [],
   "source": [
    "# !pip install selenium"
   ]
  },
  {
   "cell_type": "code",
   "execution_count": 3,
   "id": "f59465be",
   "metadata": {},
   "outputs": [],
   "source": [
    "# Importing the Libraries\n",
    "from bs4 import BeautifulSoup\n",
    "from fake_headers import Headers\n",
    "from selenium import webdriver\n",
    "from selenium.webdriver.chrome.options import Options\n",
    "from webdriver_manager.chrome import ChromeDriverManager\n",
    "import pandas as pd"
   ]
  },
  {
   "cell_type": "code",
   "execution_count": 4,
   "id": "a584534f",
   "metadata": {},
   "outputs": [],
   "source": [
    "keyword = \"India\""
   ]
  },
  {
   "cell_type": "code",
   "execution_count": 5,
   "id": "cbca9451",
   "metadata": {},
   "outputs": [],
   "source": [
    "# Website Link\n",
    "url = f'https://www.accuweather.com/en/search-locations?query={keyword}'"
   ]
  },
  {
   "cell_type": "code",
   "execution_count": 6,
   "id": "b1d84854",
   "metadata": {},
   "outputs": [
    {
     "name": "stderr",
     "output_type": "stream",
     "text": [
      "C:\\Users\\DEV-Study\\AppData\\Local\\Temp\\ipykernel_12140\\1560318565.py:2: DeprecationWarning: headless property is deprecated, instead use add_argument('--headless') or add_argument('--headless=new')\n",
      "  options.headless = True\n"
     ]
    }
   ],
   "source": [
    "options = Options()\n",
    "options.headless = True\n",
    "\n",
    "header = Headers(\n",
    "        browser=\"chrome\",  # Generate only Chrome UA\n",
    "        headers=False,  # generate misc headers\n",
    ")\n",
    "custom_user_agent = header.generate()['User-Agent']\n",
    "options.add_argument(f\"user-agent={custom_user_agent}\")\n"
   ]
  },
  {
   "cell_type": "code",
   "execution_count": 7,
   "id": "2cb24c65",
   "metadata": {},
   "outputs": [
    {
     "name": "stderr",
     "output_type": "stream",
     "text": [
      "[WDM] - Downloading: 100%|█████████████████████████████████████████████████████████| 6.79M/6.79M [00:16<00:00, 429kB/s]\n",
      "C:\\Users\\DEV-Study\\AppData\\Local\\Temp\\ipykernel_12140\\805700613.py:2: DeprecationWarning: executable_path has been deprecated, please pass in a Service object\n",
      "  driver = webdriver.Chrome(executable_path=driver_path, options=options)\n"
     ]
    }
   ],
   "source": [
    "driver_path = ChromeDriverManager().install()\n",
    "driver = webdriver.Chrome(executable_path=driver_path, options=options)\n",
    "driver.get(url)"
   ]
  },
  {
   "cell_type": "code",
   "execution_count": 8,
   "id": "655cff5c",
   "metadata": {},
   "outputs": [],
   "source": [
    "soup = BeautifulSoup(driver.page_source, 'lxml')\n",
    "driver.close()"
   ]
  },
  {
   "cell_type": "code",
   "execution_count": 9,
   "id": "7a857783",
   "metadata": {},
   "outputs": [],
   "source": [
    "try:\n",
    "    tag_a_list = soup.find('div', attrs={'class': 'locations-list content-module'}).find_all('a', href=True)\n",
    "except AttributeError:\n",
    "    print(f'\\n No data found {keyword}')\n",
    "    tag_a_list = None"
   ]
  },
  {
   "cell_type": "code",
   "execution_count": 10,
   "id": "0f3a3788",
   "metadata": {},
   "outputs": [
    {
     "name": "stdout",
     "output_type": "stream",
     "text": [
      "1. India, Mississippi, US => https://www.accuweather.com/web-api/three-day-redirect?key=2196366&target=\n",
      "2. India, Pennsylvania, US => https://www.accuweather.com/web-api/three-day-redirect?key=2242330&target=\n",
      "3. India, Tennessee, US => https://www.accuweather.com/web-api/three-day-redirect?key=2086021&target=\n",
      "4. India, Texas, US => https://www.accuweather.com/web-api/three-day-redirect?key=2145269&target=\n",
      "5. India, North Bank, GM => https://www.accuweather.com/web-api/three-day-redirect?key=1152086&target=\n",
      "6. India, Anenii Noi, MD => https://www.accuweather.com/web-api/three-day-redirect?key=1704129&target=\n",
      "7. India, Zambézia, MZ => https://www.accuweather.com/web-api/three-day-redirect?key=1489646&target=\n",
      "8. India, La Paz, SV => https://www.accuweather.com/web-api/three-day-redirect?key=1164111&target=\n",
      "9. India, Amuria, UG => https://www.accuweather.com/web-api/three-day-redirect?key=1-1041285_1_al&target=\n",
      "10. Indianapolis, Indiana, US => https://www.accuweather.com/web-api/three-day-redirect?key=348323&target=\n",
      "11. India Gate, Delhi, IN => https://www.accuweather.com/web-api/three-day-redirect?key=3588375&target=\n",
      "12. Indian Trail, North Carolina, US => https://www.accuweather.com/web-api/three-day-redirect?key=2228458&target=\n",
      "13. Indiara, Goiás, BR => https://www.accuweather.com/web-api/three-day-redirect?key=38304&target=\n",
      "14. Indianópolis, Pernambuco, BR => https://www.accuweather.com/web-api/three-day-redirect?key=2725881&target=\n",
      "15. Indianola, Iowa, US => https://www.accuweather.com/web-api/three-day-redirect?key=333067&target=\n",
      "16. Indianola, Mississippi, US => https://www.accuweather.com/web-api/three-day-redirect?key=333939&target=\n",
      "17. Indiana, Pennsylvania, US => https://www.accuweather.com/web-api/three-day-redirect?key=335348&target=\n",
      "18. Indian Chain, Couva-Tabaquite-Talparo, TT => https://www.accuweather.com/web-api/three-day-redirect?key=1122312&target=\n",
      "19. Indian Harbour Beach, Florida, US => https://www.accuweather.com/web-api/three-day-redirect?key=2243295&target=\n",
      "20. Indian Bayou Golf & Country Club, Florida, US => https://www.accuweather.com/web-api/three-day-redirect?key=192953_poi&target=\n",
      "21. Indian Bluff Golf Course, Illinois, US => https://www.accuweather.com/web-api/three-day-redirect?key=196126_poi&target=\n",
      "22. Indian Boundary Golf Course, Illinois, US => https://www.accuweather.com/web-api/three-day-redirect?key=181395_poi&target=\n",
      "23. Indian Camp Golf Course, California, US => https://www.accuweather.com/web-api/three-day-redirect?key=187784_poi&target=\n",
      "24. Indian Canyon Golf Course, Washington, US => https://www.accuweather.com/web-api/three-day-redirect?key=187617_poi&target=\n",
      "25. Indian Canyons Golf Resort, California, US => https://www.accuweather.com/web-api/three-day-redirect?key=190548_poi&target=\n",
      "26. Indian Creek Country Club, Florida, US => https://www.accuweather.com/web-api/three-day-redirect?key=192883_poi&target=\n",
      "27. Indian Creek Country Club, Iowa, US => https://www.accuweather.com/web-api/three-day-redirect?key=194683_poi&target=\n",
      "28. Indian Creek Country Club Inc, California, US => https://www.accuweather.com/web-api/three-day-redirect?key=190251_poi&target=\n",
      "29. Indian Creek Golf & Country Club, Illinois, US => https://www.accuweather.com/web-api/three-day-redirect?key=186770_poi&target=\n"
     ]
    }
   ],
   "source": [
    "count_list = 0\n",
    "if tag_a_list is not None:\n",
    "    for a in tag_a_list:\n",
    "            count_list += 1\n",
    "            href = a['href']\n",
    "            city = a.getText(strip=True)\n",
    "            print(f'{count_list}. {city} => https://www.accuweather.com{href}')"
   ]
  },
  {
   "cell_type": "code",
   "execution_count": 11,
   "id": "71987879",
   "metadata": {},
   "outputs": [],
   "source": [
    "import calendar\n",
    "\n",
    "from bs4 import BeautifulSoup\n",
    "from fake_headers import Headers\n",
    "from selenium import webdriver\n",
    "from selenium.webdriver.chrome.options import Options\n",
    "from webdriver_manager.chrome import ChromeDriverManager"
   ]
  },
  {
   "cell_type": "code",
   "execution_count": 12,
   "id": "eff2c373",
   "metadata": {},
   "outputs": [],
   "source": [
    "def get_soup(url):\n",
    "    options = Options()\n",
    "    options.headless = True\n",
    "\n",
    "    header = Headers(\n",
    "        browser=\"chrome\",  # Generate only Chrome UA\n",
    "        headers=False,  # generate misc headers\n",
    "    )\n",
    "    custom_user_agent = header.generate()['User-Agent']\n",
    "    options.add_argument(f\"user-agent={custom_user_agent}\")\n",
    "\n",
    "    driver_path = ChromeDriverManager().install()\n",
    "    if driver_path is None:\n",
    "        driver_path = ChromeDriverManager().install()\n",
    "    driver = webdriver.Chrome(executable_path=driver_path, options=options)\n",
    "    driver.get(f'https://www.accuweather.com{url}')\n",
    "\n",
    "    soup = BeautifulSoup(driver.page_source, 'lxml')\n",
    "    driver.close()\n",
    "\n",
    "    return soup"
   ]
  },
  {
   "cell_type": "code",
   "execution_count": 13,
   "id": "d1d00389",
   "metadata": {},
   "outputs": [
    {
     "name": "stderr",
     "output_type": "stream",
     "text": [
      "C:\\Users\\DEV-Study\\AppData\\Local\\Temp\\ipykernel_12140\\3937221783.py:3: DeprecationWarning: headless property is deprecated, instead use add_argument('--headless') or add_argument('--headless=new')\n",
      "  options.headless = True\n",
      "C:\\Users\\DEV-Study\\AppData\\Local\\Temp\\ipykernel_12140\\3937221783.py:15: DeprecationWarning: executable_path has been deprecated, please pass in a Service object\n",
      "  driver = webdriver.Chrome(executable_path=driver_path, options=options)\n"
     ]
    },
    {
     "name": "stdout",
     "output_type": "stream",
     "text": [
      "\n",
      "░░░ India Gate, Delhi, IN >>> Weather = {'current_weather': '10°C, Mostly cloudy, Rain starting in 6 min', 'current_date': 'March, 23', 'current_time': '6:38 AM', 'air_quality': '6°', 'wind': 'Fair', 'wind_gusts': 'SW 20 km/h', 'tomorrow_weather': '13°/ 7°, A couple of showers'} ░░░\n"
     ]
    }
   ],
   "source": [
    "def get_detail(selected_city, url_detail):\n",
    "    soup = get_soup(url_detail)\n",
    "\n",
    "    current_weather_degree = soup.find('div', attrs={'class': 'cur-con-weather-card__panel'}) \\\n",
    "        .find('div', attrs={'class': 'forecast-container'}) \\\n",
    "        .find('div', attrs={'class': 'temp-container'}) \\\n",
    "        .find('div', attrs={'class': 'temp'}) \\\n",
    "        .getText(strip=True)\n",
    "    try:\n",
    "        current_weather_phrase = soup \\\n",
    "            .find('span', attrs={'class': 'phrase'}) \\\n",
    "            .getText(strip=True)\n",
    "        current_weather_phrase = f', {current_weather_phrase}'\n",
    "    except AttributeError:\n",
    "        current_weather_phrase = ''\n",
    "    try:\n",
    "        current_weather_minute_cast = soup.find('p', attrs={'class': 'minutecast-banner__phrase'}) \\\n",
    "            .getText(strip=True)\n",
    "        current_weather_minute_cast = f', {current_weather_minute_cast}'\n",
    "    except AttributeError:\n",
    "        current_weather_minute_cast = ''\n",
    "    current_weather = f'{current_weather_degree}{current_weather_phrase}{current_weather_minute_cast}'\n",
    "\n",
    "    current_date = soup.find('p', attrs={'class': 'date'}).getText(strip=True)\n",
    "    current_day = current_date.split('/')[1]\n",
    "    current_month = current_date.split('/')[0]\n",
    "    current_date = f'{calendar.month_name[int(current_month)]}, {current_day}'\n",
    "\n",
    "    current_time = soup.find('p', attrs={'class': 'cur-con-weather-card__subtitle'}).getText(strip=True)\n",
    "\n",
    "    weather_quality = soup.find('div', attrs={'class': 'cur-con-weather-card__panel details-container'}) \\\n",
    "        .find_all('div', attrs={'class': 'spaced-content detail'})\n",
    "\n",
    "    air_quality = weather_quality[0].find('span', attrs={'class': 'value'}).getText(strip=True)\n",
    "\n",
    "    wind = weather_quality[1].find('span', attrs={'class': 'value'}).getText(strip=True)\n",
    "\n",
    "    wind_gusts = weather_quality[2].find('span', attrs={'class': 'value'}).getText(strip=True)\n",
    "\n",
    "    tomorrow_weather_card = soup.find('div', attrs={'data-qa': 'tomorrowWeatherCard'}) \\\n",
    "        .find('a') \\\n",
    "        .find('div', attrs={'class': 'card-content'})\n",
    "    tomorrow_weather_degree = tomorrow_weather_card \\\n",
    "        .find('div', attrs={'class': 'forecast-container'}) \\\n",
    "        .find('div', attrs={'class': 'temp-container'}) \\\n",
    "        .find('div', attrs={'class': 'temp'}) \\\n",
    "        .getText(strip=True)\n",
    "    tomorrow_weather_phrase = tomorrow_weather_card \\\n",
    "        .find('div', attrs={'class': 'phrase'}) \\\n",
    "        .getText(strip=True)\n",
    "    tomorrow_weather = f'{tomorrow_weather_degree}, {tomorrow_weather_phrase}'\n",
    "\n",
    "    weather = {\n",
    "        'current_weather': current_weather,\n",
    "        'current_date': current_date,\n",
    "        'current_time': current_time,\n",
    "        'air_quality': air_quality,\n",
    "        'wind': wind,\n",
    "        'wind_gusts': wind_gusts,\n",
    "        'tomorrow_weather': tomorrow_weather\n",
    "    }\n",
    "\n",
    "    print(f\"\\n░░░ {selected_city} >>> Weather = {weather} ░░░\")\n",
    "    \n",
    "    df = pd.DataFrame(weather.items()).T\n",
    "    df.columns = df.iloc[0]\n",
    "    df = df.iloc[1:]\n",
    "    return df\n",
    "\n",
    "df2 = get_detail('India Gate, Delhi, IN', '/web-api/three-day-redirect?key=328328&target=')"
   ]
  },
  {
   "cell_type": "code",
   "execution_count": 14,
   "id": "9e80f053",
   "metadata": {},
   "outputs": [
    {
     "name": "stdout",
     "output_type": "stream",
     "text": [
      "Requirement already satisfied: mysql-connector-python in c:\\users\\dev-study\\anaconda3\\lib\\site-packages (8.0.32)\n",
      "Requirement already satisfied: protobuf<=3.20.3,>=3.11.0 in c:\\users\\dev-study\\anaconda3\\lib\\site-packages (from mysql-connector-python) (3.20.3)\n"
     ]
    }
   ],
   "source": [
    "!pip install mysql-connector-python"
   ]
  },
  {
   "cell_type": "code",
   "execution_count": 15,
   "id": "075ae6f6",
   "metadata": {},
   "outputs": [],
   "source": [
    "import mysql.connector as connection\n",
    "mydb=connection.connect(host=\"localhost\", user=\"root\", passwd=\"Manish@12345\",database=\"task\", use_pure=True)\n",
    "cursor=mydb.cursor() #create a cursor to exicute queries"
   ]
  },
  {
   "cell_type": "code",
   "execution_count": 16,
   "id": "2edd18a5",
   "metadata": {},
   "outputs": [
    {
     "data": {
      "text/plain": [
       "Index(['current_weather', 'current_date', 'current_time', 'air_quality',\n",
       "       'wind', 'wind_gusts', 'tomorrow_weather'],\n",
       "      dtype='object', name=0)"
      ]
     },
     "execution_count": 16,
     "metadata": {},
     "output_type": "execute_result"
    }
   ],
   "source": [
    "col = df2.columns\n",
    "col"
   ]
  },
  {
   "cell_type": "code",
   "execution_count": 17,
   "id": "2e0ac366",
   "metadata": {},
   "outputs": [],
   "source": [
    "# cursor.execute(\"\"\"create table task1(\n",
    "# current_weather varchar(100), \n",
    "# current_date_ varchar(100), \n",
    "# current_time_ varchar(100),\n",
    "# air_quality varchar(100),\n",
    "# wind varchar(100),\n",
    "# wind_gusts varchar(100),\n",
    "# tomorrow_weather varchar(100));\"\"\")\n",
    "# # print(cursor.fetchall())"
   ]
  },
  {
   "cell_type": "code",
   "execution_count": 18,
   "id": "ee7f8b79",
   "metadata": {},
   "outputs": [
    {
     "name": "stdout",
     "output_type": "stream",
     "text": [
      "('10°C, Mostly cloudy, Rain starting in 6 min', 'March, 23', '6:38 AM', '6°', 'Fair', 'SW 20 km/h', '13°/ 7°, A couple of showers')\n"
     ]
    }
   ],
   "source": [
    "for i in range(len(df2)):\n",
    "    data = tuple(df2.iloc[i])\n",
    "    print(data)\n",
    "    q = f\"insert into task1(current_weather, current_date_ , current_time_ ,air_quality ,wind, wind_gusts, tomorrow_weather) VALUES {data}\"\n",
    "    cursor.execute(q)\n",
    "    "
   ]
  },
  {
   "cell_type": "code",
   "execution_count": 19,
   "id": "93633c04",
   "metadata": {},
   "outputs": [],
   "source": [
    "mydb.commit()"
   ]
  },
  {
   "cell_type": "code",
   "execution_count": null,
   "id": "edeeb3a5",
   "metadata": {},
   "outputs": [],
   "source": []
  }
 ],
 "metadata": {
  "kernelspec": {
   "display_name": "Python 3 (ipykernel)",
   "language": "python",
   "name": "python3"
  },
  "language_info": {
   "codemirror_mode": {
    "name": "ipython",
    "version": 3
   },
   "file_extension": ".py",
   "mimetype": "text/x-python",
   "name": "python",
   "nbconvert_exporter": "python",
   "pygments_lexer": "ipython3",
   "version": "3.9.13"
  }
 },
 "nbformat": 4,
 "nbformat_minor": 5
}
